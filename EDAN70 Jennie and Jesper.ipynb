{
 "cells": [
  {
   "cell_type": "raw",
   "metadata": {},
   "source": [
    "2020-03-31\n",
    "Aim: fix comm_use_subset_100, learn structure of dataset and annotation, learn jupyter, generate metafile\n",
    "\n",
    "\n",
    "Getting subset:"
   ]
  },
  {
   "cell_type": "code",
   "execution_count": 1,
   "metadata": {},
   "outputs": [],
   "source": [
    "import os, random, shutil\n",
    "\n",
    "comm_use_subset_100 = random.sample(os.listdir(\"/Users/jesperlaurell/EDAN70/comm_use_subset\"), 100)\n",
    "\n",
    "for filename in comm_use_subset_100:\n",
    "    shutil.copy(\"/Users/jesperlaurell/EDAN70/comm_use_subset/\" + filename, '/Users/jesperlaurell/EDAN70/comm_use_subset_100')\n",
    "\n"
   ]
  },
  {
   "cell_type": "raw",
   "metadata": {},
   "source": [
    "After generating the subset by running the above code once a new metafile was generated:"
   ]
  },
  {
   "cell_type": "code",
   "execution_count": null,
   "metadata": {},
   "outputs": [],
   "source": [
    "import pathlib, os\n",
    "\n",
    "parentpath = str(pathlib.Path(__file__).parent.absolute())\n",
    "comm_use_subset_100 = parentpath + \"/comm_use_subset_100\"\n",
    "\n",
    "filenames = []\n",
    "for f in os.listdir(comm_use_subset_100):\n",
    "    print(f[:-5])\n",
    "    filenames.append(f[:-5])\n",
    "\n",
    "out = open(\"meta_subset_100.csv\",\"w+\")\n",
    "\n",
    "for line in open(\"metadata.csv\", \"r\"):\n",
    "    for f in filenames:\n",
    "        if(f in line):\n",
    "            print(f)\n",
    "            out.write(line)\n"
   ]
  },
  {
   "cell_type": "raw",
   "metadata": {},
   "source": [
    "Conclusion/Next steps: The tagger is not yet complete since we need to ensure we have the correct format"
   ]
  },
  {
   "cell_type": "raw",
   "metadata": {},
   "source": [
    "2020-04-03\n",
    "\n",
    "Aim: work on tagger\n",
    "Conclusion/Next steps: finish tagger, needs to solve denotation part"
   ]
  },
  {
   "cell_type": "raw",
   "metadata": {},
   "source": [
    "2020-04-07\n",
    "\n",
    "Aim: Finish tagger\n",
    "Conclusions: Tried to find the \"best match\" with help of methods get_longest_match an is_overlapping, did not work as wanted."
   ]
  },
  {
   "cell_type": "code",
   "execution_count": null,
   "metadata": {},
   "outputs": [],
   "source": [
    "def get_longest_match(subsection, d):\n",
    "     longestmatch = \"\"\n",
    "     longestbegin = -1\n",
    "     longestend = -1\n",
    "     for phrase in d:\n",
    "          begin = subsection.find(phrase)\n",
    "          end = begin + len(phrase)\n",
    "          if begin > 0:\n",
    "               if is_overlapping(begin, end, longestbegin, longestend):\n",
    "                    if len(longestmatch) < len(phrase):\n",
    "                         longestmatch = phrase\n",
    "                         longestbegin = begin\n",
    "                         longestend = begin + len(longestmatch)\n",
    "               elif longestmatch == \"\":\n",
    "                    longestmatch = phrase\n",
    "                    longestbegin = begin\n",
    "                    longestend = begin + len(longestmatch)\n",
    "\n",
    "     if not longestmatch == \"\":\n",
    "          return longestbegin, longestmatch, longestend\n",
    "     else:\n",
    "          return None, None, None\n",
    "\n",
    "def is_overlapping(b1, e1, b2, e2):\n",
    "     return not (e2<b1 or e1<b2)\n",
    "     \n",
    "\n",
    "def tag_article(article_path):\n",
    "     article = read_article(article_path)\n",
    "     section_nr = 0\n",
    "     denotated_sections = []\n",
    "\n",
    "     for section in article:\n",
    "          for subsection in section:\n",
    "               subsection = subsection.lower()\n",
    "               denotations = []\n",
    "               longestmatch = \"\"\n",
    "               for id in dicts.keys():\n",
    "                    longestbegin, longestmatch, longestend = get_longest_match(subsection, dicts[id])\n",
    "                    info = {\"id\": id, \"span\":{\"begin\":longestbegin, \"end\":longestend}, \"obj\":\"?\"}\n",
    "                    if not longestmatch == None:\n",
    "                         denotations.append(info)\n",
    "                         print(\"found\", longestmatch)\n",
    "                              \n",
    "               denotated_sections.append(denotations)\n",
    "     return denotated_sections\n"
   ]
  },
  {
   "cell_type": "raw",
   "metadata": {},
   "source": [
    "Next step: Make the code for the tagger work properly, finding \"best match\" and generate correct JSON files."
   ]
  },
  {
   "cell_type": "raw",
   "metadata": {},
   "source": [
    "2020-04-16\n",
    "Aim: Work on tagger\n",
    "Conclusions: Use regEx to find the longest/\"best\" match from the dictionary instead of the methods built 2020-04-07. Succeded to find best match with updated tag_article."
   ]
  },
  {
   "cell_type": "code",
   "execution_count": null,
   "metadata": {},
   "outputs": [],
   "source": []
  },
  {
   "cell_type": "raw",
   "metadata": {},
   "source": [
    "Next step: Fix correct JSON files. Test format at pubannotation.org, test run code with silverstandard dataset and evaluate the performance."
   ]
  },
  {
   "cell_type": "raw",
   "metadata": {},
   "source": [
    "2020-04-22\n",
    "Aim: Finish tagger, Json files needs to be generated correctly. Test the format at pubannotations.org. Test\n",
    "\n",
    "Conclusions: Tagger works as wanted and when testing at pubannotion.org we got a valid result. Still a bit unsure about what obj in denotations is supposed to be."
   ]
  }
 ],
 "metadata": {
  "kernelspec": {
   "display_name": "Python 3",
   "language": "python",
   "name": "python3"
  },
  "language_info": {
   "codemirror_mode": {
    "name": "ipython",
    "version": 3
   },
   "file_extension": ".py",
   "mimetype": "text/x-python",
   "name": "python",
   "nbconvert_exporter": "python",
   "pygments_lexer": "ipython3",
   "version": "3.7.4"
  }
 },
 "nbformat": 4,
 "nbformat_minor": 4
}
